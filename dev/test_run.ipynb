{
 "cells": [
  {
   "cell_type": "code",
   "execution_count": 1,
   "metadata": {},
   "outputs": [],
   "source": [
    "import os"
   ]
  },
  {
   "cell_type": "code",
   "execution_count": null,
   "metadata": {},
   "outputs": [],
   "source": [
    "# original\n",
    "# under model folder\n",
    "!python3 ../../../NLLP/experiment/PaddleNLP_UIE/finetune.py  \\\n",
    "    --device cpu \\\n",
    "    --logging_steps 10 \\\n",
    "    --save_steps 100 \\\n",
    "    --eval_steps 100 \\\n",
    "    --seed 42 \\\n",
    "    --model_name_or_path uie-base  \\\n",
    "    --output_dir ../../../NLLP/experiment/PaddleNLP_UIE/checkpoint/model_best \\\n",
    "    --train_path ../../../NLLP/experiment/PaddleNLP_UIE/training_data.txt \\\n",
    "    --dev_path ../../../NLLP/experiment/PaddleNLP_UIE/eval_data.txt  \\\n",
    "    --max_seq_length 512  \\\n",
    "    --per_device_eval_batch_size 16\\\n",
    "    --per_device_train_batch_size  16 \\\n",
    "    --num_train_epochs 1 \\\n",
    "    --learning_rate 1e-5 \\\n",
    "    --label_names 'start_positions' 'end_positions' \\\n",
    "    --do_train \\\n",
    "    --do_eval \\\n",
    "    --do_export \\\n",
    "    --do_compress \\\n",
    "    --export_model_dir ../../../NLLP/experiment/PaddleNLP_UIE/checkpoint/model_best \\\n",
    "    --overwrite_output_dir \\\n",
    "    --disable_tqdm True \\\n",
    "    --metric_for_best_model eval_f1 \\\n",
    "    --load_best_model_at_end  True \\\n",
    "    --save_total_limit 1\n"
   ]
  },
  {
   "cell_type": "code",
   "execution_count": 1,
   "metadata": {},
   "outputs": [
    {
     "name": "stdout",
     "output_type": "stream",
     "text": [
      "python3: can't open file '/Users/cfh00892302/Desktop/myWorkspace/Chinese-Verdict-NLP/dev/finetune.py': [Errno 2] No such file or directory\n"
     ]
    }
   ],
   "source": [
    "# toy test\n",
    "!python3 finetune.py  \\\n",
    "    --device cpu \\\n",
    "    --logging_steps 10 \\\n",
    "    --save_steps 100 \\\n",
    "    --eval_steps 100 \\\n",
    "    --seed 42 \\\n",
    "    --model_name_or_path uie-base  \\\n",
    "    --train_path ../../dev/data/cpu_data/training_data.txt \\\n",
    "    --dev_path ../../dev/data/cpu_data/eval_data.txt  \\\n",
    "    --max_seq_len 512  \\\n",
    "    --per_device_eval_batch_size 16\\\n",
    "    --per_device_train_batch_size  16 \\\n",
    "    --num_train_epochs 1 \\\n",
    "    --learning_rate 1e-5 \\\n",
    "    --label_names 'start_positions' 'end_positions' \\\n",
    "    --do_train \\\n",
    "    --do_eval \\\n",
    "    --do_export \\\n",
    "    --overwrite_output_dir \\\n",
    "    --disable_tqdm True \\\n",
    "    --metric_for_best_model eval_f1 \\\n",
    "    --load_best_model_at_end  True \\\n",
    "    --save_total_limit 1"
   ]
  },
  {
   "cell_type": "code",
   "execution_count": 40,
   "metadata": {},
   "outputs": [],
   "source": [
    "schema = [\"薪資費用\", \"醫療費用\", \"精神慰撫金額\"]\n",
    "\n",
    "mytext = \"臺灣橋頭地方法院民事判決108年度訴字第85書記官黃進遠\""
   ]
  },
  {
   "cell_type": "code",
   "execution_count": 42,
   "metadata": {},
   "outputs": [
    {
     "ename": "FileNotFoundError",
     "evalue": "[Errno 2] No such file or directory: '../results/checkpoint/config.json'",
     "output_type": "error",
     "traceback": [
      "\u001b[0;31m---------------------------------------------------------------------------\u001b[0m",
      "\u001b[0;31mFileNotFoundError\u001b[0m                         Traceback (most recent call last)",
      "Cell \u001b[0;32mIn[42], line 4\u001b[0m\n\u001b[1;32m      2\u001b[0m \u001b[39mfrom\u001b[39;00m \u001b[39mpprint\u001b[39;00m \u001b[39mimport\u001b[39;00m pprint\n\u001b[1;32m      3\u001b[0m \u001b[39mfrom\u001b[39;00m \u001b[39mpaddlenlp\u001b[39;00m \u001b[39mimport\u001b[39;00m Taskflow\n\u001b[0;32m----> 4\u001b[0m my_ie \u001b[39m=\u001b[39m Taskflow(\u001b[39m\"\u001b[39;49m\u001b[39minformation_extraction\u001b[39;49m\u001b[39m\"\u001b[39;49m, schema\u001b[39m=\u001b[39;49mschema, \n\u001b[1;32m      5\u001b[0m                  task_path\u001b[39m=\u001b[39;49m\u001b[39m'\u001b[39;49m\u001b[39m../results/checkpoint\u001b[39;49m\u001b[39m'\u001b[39;49m,\n\u001b[1;32m      6\u001b[0m                  precision\u001b[39m=\u001b[39;49m\u001b[39m'\u001b[39;49m\u001b[39mfp32\u001b[39;49m\u001b[39m'\u001b[39;49m)\n\u001b[1;32m      7\u001b[0m pprint(my_ie(mytext))\n",
      "File \u001b[0;32m~/Desktop/myWorkspace/env/lib/python3.9/site-packages/paddlenlp/taskflow/taskflow.py:696\u001b[0m, in \u001b[0;36mTaskflow.__init__\u001b[0;34m(self, task, model, mode, device_id, from_hf_hub, **kwargs)\u001b[0m\n\u001b[1;32m    694\u001b[0m \u001b[39mself\u001b[39m\u001b[39m.\u001b[39mkwargs \u001b[39m=\u001b[39m kwargs\n\u001b[1;32m    695\u001b[0m task_class \u001b[39m=\u001b[39m TASKS[\u001b[39mself\u001b[39m\u001b[39m.\u001b[39mtask][tag][\u001b[39mself\u001b[39m\u001b[39m.\u001b[39mmodel][\u001b[39m\"\u001b[39m\u001b[39mtask_class\u001b[39m\u001b[39m\"\u001b[39m]\n\u001b[0;32m--> 696\u001b[0m \u001b[39mself\u001b[39m\u001b[39m.\u001b[39mtask_instance \u001b[39m=\u001b[39m task_class(\n\u001b[1;32m    697\u001b[0m     model\u001b[39m=\u001b[39;49m\u001b[39mself\u001b[39;49m\u001b[39m.\u001b[39;49mmodel, task\u001b[39m=\u001b[39;49m\u001b[39mself\u001b[39;49m\u001b[39m.\u001b[39;49mtask, priority_path\u001b[39m=\u001b[39;49m\u001b[39mself\u001b[39;49m\u001b[39m.\u001b[39;49mpriority_path, from_hf_hub\u001b[39m=\u001b[39;49mfrom_hf_hub, \u001b[39m*\u001b[39;49m\u001b[39m*\u001b[39;49m\u001b[39mself\u001b[39;49m\u001b[39m.\u001b[39;49mkwargs\n\u001b[1;32m    698\u001b[0m )\n\u001b[1;32m    699\u001b[0m task_list \u001b[39m=\u001b[39m TASKS\u001b[39m.\u001b[39mkeys()\n\u001b[1;32m    700\u001b[0m Taskflow\u001b[39m.\u001b[39mtask_list \u001b[39m=\u001b[39m task_list\n",
      "File \u001b[0;32m~/Desktop/myWorkspace/env/lib/python3.9/site-packages/paddlenlp/taskflow/information_extraction.py:415\u001b[0m, in \u001b[0;36mUIETask.__init__\u001b[0;34m(self, task, model, schema, **kwargs)\u001b[0m\n\u001b[1;32m    413\u001b[0m     \u001b[39melse\u001b[39;00m:\n\u001b[1;32m    414\u001b[0m         \u001b[39mself\u001b[39m\u001b[39m.\u001b[39m_check_task_files()\n\u001b[0;32m--> 415\u001b[0m         \u001b[39mwith\u001b[39;00m \u001b[39mopen\u001b[39;49m(os\u001b[39m.\u001b[39;49mpath\u001b[39m.\u001b[39;49mjoin(\u001b[39mself\u001b[39;49m\u001b[39m.\u001b[39;49m_task_path, CONFIG_NAME)) \u001b[39mas\u001b[39;00m f:\n\u001b[1;32m    416\u001b[0m             \u001b[39mself\u001b[39m\u001b[39m.\u001b[39m_init_class \u001b[39m=\u001b[39m json\u001b[39m.\u001b[39mload(f)[\u001b[39m\"\u001b[39m\u001b[39marchitectures\u001b[39m\u001b[39m\"\u001b[39m]\u001b[39m.\u001b[39mpop()\n\u001b[1;32m    418\u001b[0m \u001b[39mif\u001b[39;00m \u001b[39mself\u001b[39m\u001b[39m.\u001b[39m_init_class \u001b[39mnot\u001b[39;00m \u001b[39min\u001b[39;00m [\u001b[39m\"\u001b[39m\u001b[39mUIEX\u001b[39m\u001b[39m\"\u001b[39m, \u001b[39m\"\u001b[39m\u001b[39mUIEM\u001b[39m\u001b[39m\"\u001b[39m]:\n",
      "\u001b[0;31mFileNotFoundError\u001b[0m: [Errno 2] No such file or directory: '../results/checkpoint/config.json'"
     ]
    }
   ],
   "source": [
    "# toy inference\n",
    "from pprint import pprint\n",
    "from paddlenlp import Taskflow\n",
    "my_ie = Taskflow(\"information_extraction\", schema=schema, \n",
    "                 task_path='../results/checkpoint',\n",
    "                 precision='fp32')\n",
    "pprint(my_ie(mytext))\n"
   ]
  },
  {
   "cell_type": "code",
   "execution_count": null,
   "metadata": {},
   "outputs": [],
   "source": [
    "# gpu test\n",
    "!python3 finetune.py  \\\n",
    "    --device gpu \\\n",
    "    --logging_steps 10 \\\n",
    "    --save_steps 100 \\\n",
    "    --eval_steps 100 \\\n",
    "    --seed 42 \\\n",
    "    --model_name_or_path uie-base  \\\n",
    "    --train_path ../data/data_for_one_shot_example/training_data.txt \\\n",
    "    --dev_path ../data/data_for_one_shot_example/eval_data.txt  \\\n",
    "    --max_seq_len 512  \\\n",
    "    --per_device_eval_batch_size 16\\\n",
    "    --per_device_train_batch_size  16 \\\n",
    "    --num_train_epochs 2 \\\n",
    "    --learning_rate 1e-5 \\\n",
    "    --label_names 'start_positions' 'end_positions' \\\n",
    "    --do_train \\\n",
    "    --do_eval \\\n",
    "    --do_export \\\n",
    "    --disable_tqdm True \\\n",
    "    --metric_for_best_model eval_f1 \\\n",
    "    --load_best_model_at_end  True \\\n",
    "    --save_total_limit 1"
   ]
  }
 ],
 "metadata": {
  "kernelspec": {
   "display_name": "Python 3.9.6 ('env': venv)",
   "language": "python",
   "name": "python3"
  },
  "language_info": {
   "codemirror_mode": {
    "name": "ipython",
    "version": 3
   },
   "file_extension": ".py",
   "mimetype": "text/x-python",
   "name": "python",
   "nbconvert_exporter": "python",
   "pygments_lexer": "ipython3",
   "version": "3.9.6"
  },
  "orig_nbformat": 4,
  "vscode": {
   "interpreter": {
    "hash": "5d58828fd0c5f7af717daf8982e0a9ccf3c174b5c7bbe63b6216d1f875908829"
   }
  }
 },
 "nbformat": 4,
 "nbformat_minor": 2
}
