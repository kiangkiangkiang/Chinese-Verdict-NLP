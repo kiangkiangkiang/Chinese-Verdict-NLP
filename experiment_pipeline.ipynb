{
 "cells": [
  {
   "cell_type": "code",
   "execution_count": null,
   "metadata": {},
   "outputs": [],
   "source": [
    "# 可刪掉的block\n",
    "\"/Users/cfh00892302/Desktop/myWorkspace/Chinese-Verdict-NLP/dev/label_output_new/merged_data.json\""
   ]
  },
  {
   "cell_type": "markdown",
   "metadata": {},
   "source": [
    "1. 把資料合併 #暫時不用做這步驟"
   ]
  },
  {
   "cell_type": "code",
   "execution_count": null,
   "metadata": {},
   "outputs": [],
   "source": [
    "from information_extraction.utils.base_utils import merge_json\n",
    "all_json_file_locate_folder = \"./dev/label_output_raw\"\n",
    "merged_json_output_folder = \"./dev/label_output_new\"\n",
    "merge_json(all_json_file_locate_folder, merged_json_output_folder)"
   ]
  },
  {
   "cell_type": "code",
   "execution_count": 3,
   "metadata": {},
   "outputs": [],
   "source": [
    "file_name = \"./dev/label_output_raw/金額擷取0509.json\""
   ]
  },
  {
   "cell_type": "markdown",
   "metadata": {},
   "source": [
    "2. 檢查資料正確性"
   ]
  },
  {
   "cell_type": "code",
   "execution_count": 4,
   "metadata": {},
   "outputs": [
    {
     "name": "stderr",
     "output_type": "stream",
     "text": [
      "\u001b[32m[2023-05-10 14:22:19,046] [    INFO]\u001b[0m - All data: 163. Unique data: 163. Repeat data: 0.\u001b[0m\n"
     ]
    }
   ],
   "source": [
    "from information_extraction.utils.base_utils import is_repeat_content_exist\n",
    "result = is_repeat_content_exist(file_name)['is_repeat']"
   ]
  },
  {
   "cell_type": "markdown",
   "metadata": {},
   "source": [
    "3. "
   ]
  },
  {
   "cell_type": "code",
   "execution_count": 5,
   "metadata": {},
   "outputs": [
    {
     "name": "stderr",
     "output_type": "stream",
     "text": [
      "\u001b[35m[2023-05-10 14:22:21,748] [   DEBUG]\u001b[0m - result_index = [1706, 1712, 1715, 1721, 1838, 1846, 1921, 1930, 2268, 2275, 2298, 2303, 2373, 2381]\u001b[0m\n",
      "\u001b[32m[2023-05-10 14:22:21,749] [    INFO]\u001b[0m - Finish regular result index.\u001b[0m\n",
      "\u001b[35m[2023-05-10 14:22:21,751] [   DEBUG]\u001b[0m - result_index = [2898, 2906, 4029, 4042, 7574, 7581, 7610, 7613, 7733, 7741, 9111, 9119, 9186, 9194]\u001b[0m\n",
      "\u001b[32m[2023-05-10 14:22:21,754] [    INFO]\u001b[0m - Finish regular result index.\u001b[0m\n",
      "\u001b[35m[2023-05-10 14:22:21,756] [   DEBUG]\u001b[0m - result_index = [3804, 3814]\u001b[0m\n",
      "\u001b[32m[2023-05-10 14:22:21,758] [    INFO]\u001b[0m - Finish regular result index.\u001b[0m\n",
      "\u001b[35m[2023-05-10 14:22:21,761] [   DEBUG]\u001b[0m - result_index = [2973, 2982, 5208, 5221, 5271, 5285, 5321, 5330]\u001b[0m\n",
      "\u001b[32m[2023-05-10 14:22:21,766] [    INFO]\u001b[0m - Finish regular result index.\u001b[0m\n",
      "\u001b[35m[2023-05-10 14:22:21,768] [   DEBUG]\u001b[0m - result_index = [4687, 4695, 5515, 5522, 5756, 5760, 5816, 5824, 5884, 5895]\u001b[0m\n",
      "\u001b[32m[2023-05-10 14:22:21,771] [    INFO]\u001b[0m - Finish regular result index.\u001b[0m\n"
     ]
    },
    {
     "ename": "ConvertingError",
     "evalue": "adjusted_data: 24萬元，應屬適宜。⒎綜上，原告得請求被告賠償之數額為醫療費用（含第二次手術）121,251元、看護費62,000元、交通費2,875元、工作損失75,320元、三餐及營養品費用18,400元、慰撫金24萬元，共計519,846元。（三）與有過失之認定：⒈按損害之發生或擴大，被害人與有過失者，法院得減輕賠償金額，或免除之。……前二項之規定，於被害人之代理人或使用人與有過失者，準用之。民法第217條第1項、第3項定有明文。次按駕駛機車附載他人，該他人係因藉駕駛人載送而擴大其活動範圍，駕駛人為之駕駛機車，應認係該他人之使用人。⒉經查，黃煒閔與被告就系爭車禍事故同有肇事原因，亦即均有過失，業經本院認定如前，而黃煒閔於系爭車禍事故發生時，乃駕駛機車搭載原告，為原告之使用人，揆諸首揭規定及說明，原告之使用人黃煒閔與有過失，原告自應承擔黃煒閔之過失。本院審酌被告駕駛自小客貨車，右轉未注意右側車輛，轉彎車未讓直行車先行；黃煒閔駕駛普通重型機車，超速行駛，未注意車前狀況。共同肇致系爭車禍事故，依被告及黃煒閔對本件損害發生之過失情節，因認黃煒閔、被告均各負百分之五十的過失責任。故依過失相抵之規定減輕賠償金額，是被告應賠償原告之金額為259,923元（計算式：519,846×50％＝259,923）。（四）另末按保險人依強制汽車責任保險法規定給付之保險金，視為加害人或被保險人損害賠償金額之一部分。加害人或被保險人受賠償請求時，得扣除之。強制汽車責任保險法第32條有明文規定。而強制汽車責任保險法第32條規定之立法目的，在於保險人之給付乃由於被保險人支付保險費所生，性質上屬於被保險人賠償責任之承擔或轉嫁，應視為加害人或被保險人損害賠償金額之一部分，為避免受害人雙重受償，於受賠償請求時，得扣除之。查原告自承系爭車禍事故，尚未依強制汽車責任保險法之規定向強制汽車責任保險之保險人申請給付（見本院卷第90頁），自無從視為應給付賠償額之一部分予以扣除，附此敘明。（五）又給付無確定期限者，債務人於債權人得請求給付時，經其催告而未為給付，自受催告時起，負遲延責任。其經債權人起訴而送達訴狀，或依督促程序送達支付命令，或為其他相類之行為者，與催告有同一之效力。遲延之債務，以支付金錢為標的者，債權人得請求依法定利率計算之遲延利息。應付利息之債務，其利率未經約定，亦無法律可據者，週年利率為百分之五。民法第229條第2項、第233條第1項前段及第203條定有明文。經查，本件原告請求被告應賠償之前開金額，並未定有給付之期限及利率，被告應自受催告時起負遲延責任，並得依法定利率給付遲延利息。則原告請求自刑事附帶民事起訴狀繕本送達被告之翌日起之遲延利息部分，並無不合；又原告之刑事附帶民事起訴狀繕本係於108年5月6日合法送達被告，有本院送達證書1紙在卷（見附民卷第69頁）可憑，則原告本於侵權行為之法律關係，請求被告應給付自108年5月7日起，至清償日止，按週年利率百分之五計算之遲延利息，核與上開規定並無違背，自無不合。五、綜上所述，原告本於侵權行為之法律 is not equal to true_data: 24萬元. start:end = 4488:5760",
     "output_type": "error",
     "traceback": [
      "\u001b[0;31m---------------------------------------------------------------------------\u001b[0m",
      "\u001b[0;31mConvertingError\u001b[0m                           Traceback (most recent call last)",
      "Cell \u001b[0;32mIn[5], line 3\u001b[0m\n\u001b[1;32m      1\u001b[0m \u001b[39mfrom\u001b[39;00m \u001b[39minformation_extraction\u001b[39;00m\u001b[39m.\u001b[39;00m\u001b[39mutils\u001b[39;00m\u001b[39m.\u001b[39;00m\u001b[39mbase_utils\u001b[39;00m \u001b[39mimport\u001b[39;00m regularize_json_file\n\u001b[1;32m      2\u001b[0m \u001b[39mif\u001b[39;00m \u001b[39mnot\u001b[39;00m result:\n\u001b[0;32m----> 3\u001b[0m     regularize_json_file(file_name, \u001b[39m\"\u001b[39;49m\u001b[39m./dev/label_output_new\u001b[39;49m\u001b[39m\"\u001b[39;49m)\n",
      "File \u001b[0;32m~/Desktop/myWorkspace/Chinese-Verdict-NLP/information_extraction/utils/base_utils.py:218\u001b[0m, in \u001b[0;36mregularize_json_file\u001b[0;34m(json_file, output_path, regularize_text)\u001b[0m\n\u001b[1;32m    216\u001b[0m \u001b[39mfor\u001b[39;00m json \u001b[39min\u001b[39;00m json_list:\n\u001b[1;32m    217\u001b[0m     regularized_data \u001b[39m=\u001b[39m regularize_content(json, regularize_text\u001b[39m=\u001b[39mregularize_text)\n\u001b[0;32m--> 218\u001b[0m     test_regularized_data(regularized_data)\n\u001b[1;32m    219\u001b[0m     result_list\u001b[39m.\u001b[39mappend(regularized_data)\n\u001b[1;32m    221\u001b[0m \u001b[39mif\u001b[39;00m \u001b[39mnot\u001b[39;00m os\u001b[39m.\u001b[39mpath\u001b[39m.\u001b[39mexists(output_path):\n",
      "File \u001b[0;32m~/Desktop/myWorkspace/Chinese-Verdict-NLP/information_extraction/utils/base_utils.py:206\u001b[0m, in \u001b[0;36mregularize_json_file.<locals>.test_regularized_data\u001b[0;34m(regularized_data)\u001b[0m\n\u001b[1;32m    204\u001b[0m true_data \u001b[39m=\u001b[39m regularized_data[\u001b[39m\"\u001b[39m\u001b[39mannotations\u001b[39m\u001b[39m\"\u001b[39m][\u001b[39m0\u001b[39m][\u001b[39m\"\u001b[39m\u001b[39mresult\u001b[39m\u001b[39m\"\u001b[39m][i][\u001b[39m\"\u001b[39m\u001b[39mvalue\u001b[39m\u001b[39m\"\u001b[39m][\u001b[39m\"\u001b[39m\u001b[39mtext\u001b[39m\u001b[39m\"\u001b[39m]\n\u001b[1;32m    205\u001b[0m \u001b[39mif\u001b[39;00m adjusted_data \u001b[39m!=\u001b[39m true_data:\n\u001b[0;32m--> 206\u001b[0m     \u001b[39mraise\u001b[39;00m ConvertingError(\n\u001b[1;32m    207\u001b[0m         \u001b[39mf\u001b[39m\u001b[39m\"\u001b[39m\u001b[39madjusted_data: \u001b[39m\u001b[39m{\u001b[39;00madjusted_data\u001b[39m}\u001b[39;00m\u001b[39m is not equal to true_data: \u001b[39m\u001b[39m{\u001b[39;00mtrue_data\u001b[39m}\u001b[39;00m\u001b[39m. start:end = \u001b[39m\u001b[39m{\u001b[39;00mstart\u001b[39m}\u001b[39;00m\u001b[39m:\u001b[39m\u001b[39m{\u001b[39;00mend\u001b[39m}\u001b[39;00m\u001b[39m\"\u001b[39m\n\u001b[1;32m    208\u001b[0m     )\n",
      "\u001b[0;31mConvertingError\u001b[0m: adjusted_data: 24萬元，應屬適宜。⒎綜上，原告得請求被告賠償之數額為醫療費用（含第二次手術）121,251元、看護費62,000元、交通費2,875元、工作損失75,320元、三餐及營養品費用18,400元、慰撫金24萬元，共計519,846元。（三）與有過失之認定：⒈按損害之發生或擴大，被害人與有過失者，法院得減輕賠償金額，或免除之。……前二項之規定，於被害人之代理人或使用人與有過失者，準用之。民法第217條第1項、第3項定有明文。次按駕駛機車附載他人，該他人係因藉駕駛人載送而擴大其活動範圍，駕駛人為之駕駛機車，應認係該他人之使用人。⒉經查，黃煒閔與被告就系爭車禍事故同有肇事原因，亦即均有過失，業經本院認定如前，而黃煒閔於系爭車禍事故發生時，乃駕駛機車搭載原告，為原告之使用人，揆諸首揭規定及說明，原告之使用人黃煒閔與有過失，原告自應承擔黃煒閔之過失。本院審酌被告駕駛自小客貨車，右轉未注意右側車輛，轉彎車未讓直行車先行；黃煒閔駕駛普通重型機車，超速行駛，未注意車前狀況。共同肇致系爭車禍事故，依被告及黃煒閔對本件損害發生之過失情節，因認黃煒閔、被告均各負百分之五十的過失責任。故依過失相抵之規定減輕賠償金額，是被告應賠償原告之金額為259,923元（計算式：519,846×50％＝259,923）。（四）另末按保險人依強制汽車責任保險法規定給付之保險金，視為加害人或被保險人損害賠償金額之一部分。加害人或被保險人受賠償請求時，得扣除之。強制汽車責任保險法第32條有明文規定。而強制汽車責任保險法第32條規定之立法目的，在於保險人之給付乃由於被保險人支付保險費所生，性質上屬於被保險人賠償責任之承擔或轉嫁，應視為加害人或被保險人損害賠償金額之一部分，為避免受害人雙重受償，於受賠償請求時，得扣除之。查原告自承系爭車禍事故，尚未依強制汽車責任保險法之規定向強制汽車責任保險之保險人申請給付（見本院卷第90頁），自無從視為應給付賠償額之一部分予以扣除，附此敘明。（五）又給付無確定期限者，債務人於債權人得請求給付時，經其催告而未為給付，自受催告時起，負遲延責任。其經債權人起訴而送達訴狀，或依督促程序送達支付命令，或為其他相類之行為者，與催告有同一之效力。遲延之債務，以支付金錢為標的者，債權人得請求依法定利率計算之遲延利息。應付利息之債務，其利率未經約定，亦無法律可據者，週年利率為百分之五。民法第229條第2項、第233條第1項前段及第203條定有明文。經查，本件原告請求被告應賠償之前開金額，並未定有給付之期限及利率，被告應自受催告時起負遲延責任，並得依法定利率給付遲延利息。則原告請求自刑事附帶民事起訴狀繕本送達被告之翌日起之遲延利息部分，並無不合；又原告之刑事附帶民事起訴狀繕本係於108年5月6日合法送達被告，有本院送達證書1紙在卷（見附民卷第69頁）可憑，則原告本於侵權行為之法律關係，請求被告應給付自108年5月7日起，至清償日止，按週年利率百分之五計算之遲延利息，核與上開規定並無違背，自無不合。五、綜上所述，原告本於侵權行為之法律 is not equal to true_data: 24萬元. start:end = 4488:5760"
     ]
    }
   ],
   "source": [
    "from information_extraction.utils.base_utils import regularize_json_file\n",
    "if not result:\n",
    "    regularize_json_file(file_name, \"./dev/label_output_new\")"
   ]
  }
 ],
 "metadata": {
  "kernelspec": {
   "display_name": "Python 3.9.6 ('env': venv)",
   "language": "python",
   "name": "python3"
  },
  "language_info": {
   "codemirror_mode": {
    "name": "ipython",
    "version": 3
   },
   "file_extension": ".py",
   "mimetype": "text/x-python",
   "name": "python",
   "nbconvert_exporter": "python",
   "pygments_lexer": "ipython3",
   "version": "3.9.6"
  },
  "orig_nbformat": 4,
  "vscode": {
   "interpreter": {
    "hash": "5d58828fd0c5f7af717daf8982e0a9ccf3c174b5c7bbe63b6216d1f875908829"
   }
  }
 },
 "nbformat": 4,
 "nbformat_minor": 2
}
