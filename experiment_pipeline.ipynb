{
 "cells": [
  {
   "cell_type": "code",
   "execution_count": null,
   "metadata": {},
   "outputs": [],
   "source": [
    "# 可刪掉的block\n",
    "\"/Users/cfh00892302/Desktop/myWorkspace/Chinese-Verdict-NLP/dev/label_output_new/merged_data.json\""
   ]
  },
  {
   "cell_type": "markdown",
   "metadata": {},
   "source": [
    "1. 把資料合併 #暫時不用做這步驟"
   ]
  },
  {
   "cell_type": "code",
   "execution_count": 2,
   "metadata": {},
   "outputs": [
    {
     "name": "stderr",
     "output_type": "stream",
     "text": [
      "\u001b[32m[2023-05-26 14:19:18,522] [    INFO]\u001b[0m - Find the following json file: ['個理_文本分類_119.json', '商險_文本分類_25.json'].\u001b[0m\n",
      "\u001b[32m[2023-05-26 14:19:18,523] [    INFO]\u001b[0m - Merging the file 個理_文本分類_119.json...\u001b[0m\n",
      "\u001b[32m[2023-05-26 14:19:18,536] [    INFO]\u001b[0m - Length of 個理_文本分類_119.json is 119.\u001b[0m\n",
      "\u001b[32m[2023-05-26 14:19:18,538] [    INFO]\u001b[0m - Merging the file 商險_文本分類_25.json...\u001b[0m\n",
      "\u001b[32m[2023-05-26 14:19:18,543] [    INFO]\u001b[0m - Length of 商險_文本分類_25.json is 25.\u001b[0m\n",
      "\u001b[32m[2023-05-26 14:19:18,561] [    INFO]\u001b[0m - Successful merge all file (len=144) to ./dev/label_output_new/merged_data.json.\u001b[0m\n"
     ]
    }
   ],
   "source": [
    "from information_extraction.utils.base_utils import merge_json\n",
    "all_json_file_locate_folder = \"./dev/label_output_raw\"\n",
    "merged_json_output_folder = \"./dev/label_output_new\"\n",
    "merge_json(all_json_file_locate_folder, merged_json_output_folder)"
   ]
  },
  {
   "cell_type": "code",
   "execution_count": 1,
   "metadata": {},
   "outputs": [],
   "source": [
    "file_name = \"./dev/label_output_new/final_1000.json\""
   ]
  },
  {
   "cell_type": "markdown",
   "metadata": {},
   "source": [
    "2. 檢查資料正確性"
   ]
  },
  {
   "cell_type": "code",
   "execution_count": 3,
   "metadata": {},
   "outputs": [
    {
     "name": "stderr",
     "output_type": "stream",
     "text": [
      "\u001b[32m[2023-06-16 03:08:00,859] [    INFO]\u001b[0m - All data: 1000. Unique data: 1000. Repeat data: 0.\u001b[0m\n"
     ]
    },
    {
     "name": "stdout",
     "output_type": "stream",
     "text": [
      "OK! No repeat.\n"
     ]
    }
   ],
   "source": [
    "from information_extraction.utils.base_utils import is_repeat_content_exist\n",
    "result = is_repeat_content_exist(file_name)\n",
    "if not result['is_repeat']:\n",
    "    print(\"OK! No repeat.\")\n",
    "else:\n",
    "    print(\"Duplicate cases happened!!!\")\n",
    "    "
   ]
  },
  {
   "cell_type": "markdown",
   "metadata": {},
   "source": [
    "3. 資料前處理 去特殊字元"
   ]
  },
  {
   "cell_type": "code",
   "execution_count": null,
   "metadata": {},
   "outputs": [],
   "source": [
    "from information_extraction.utils.base_utils import regularize_json_file\n",
    "regularize_json_file(json_file=\"./dev/label_output_new/final_1000.json\", output_path=\"./information_extraction/data/final_data/\")"
   ]
  },
  {
   "cell_type": "markdown",
   "metadata": {},
   "source": [
    "3. Split into train/eval/test"
   ]
  },
  {
   "cell_type": "code",
   "execution_count": 11,
   "metadata": {},
   "outputs": [
    {
     "name": "stdout",
     "output_type": "stream",
     "text": [
      "/home/ubuntu/work/venv_pytorch/lib/python3.8/site-packages/_distutils_hack/__init__.py:33: UserWarning: Setuptools is replacing distutils.\n",
      "  warnings.warn(\"Setuptools is replacing distutils.\")\n",
      "\u001b[35m[2023-06-16 03:12:35,884] [   DEBUG]\u001b[0m - This dir = /home/ubuntu/work/Chinese-Verdict-NLP\u001b[0m\n",
      "\u001b[32m[2023-06-16 03:12:35,885] [    INFO]\u001b[0m - Converting regularized_data.json into ./information_extraction/data/final_data/...\u001b[0m\n",
      "\u001b[35m[2023-06-16 03:12:36,027] [   DEBUG]\u001b[0m - in do_split, len(dataset)=1000\u001b[0m\n",
      "\u001b[35m[2023-06-16 03:12:36,027] [   DEBUG]\u001b[0m - In convert_format, data len = 800\u001b[0m\n",
      "\u001b[35m[2023-06-16 03:12:36,033] [   DEBUG]\u001b[0m - In convert_format, data len = 100\u001b[0m\n",
      "\u001b[35m[2023-06-16 03:12:36,034] [   DEBUG]\u001b[0m - In convert_format, data len = 100\u001b[0m\n",
      "\u001b[35m[2023-06-16 03:12:36,035] [   DEBUG]\u001b[0m - len(training_data.txt) = 2400\u001b[0m\n",
      "\u001b[35m[2023-06-16 03:12:36,343] [   DEBUG]\u001b[0m - len(eval_data.txt) = 300\u001b[0m\n",
      "\u001b[35m[2023-06-16 03:12:36,378] [   DEBUG]\u001b[0m - len(testing_data.txt) = 300\u001b[0m\n"
     ]
    }
   ],
   "source": [
    "!python ./information_extraction/utils/split_labelstudio.py \\\n",
    "    --labelstudio_file ./information_extraction/data/final_data/regularized_data.json \\\n",
    "    --save_dir ./information_extraction/data/final_data/ \\\n",
    "    --split_ratio 0.8 0.1 0.1 "
   ]
  },
  {
   "cell_type": "markdown",
   "metadata": {},
   "source": [
    "4. training"
   ]
  },
  {
   "cell_type": "code",
   "execution_count": null,
   "metadata": {},
   "outputs": [],
   "source": [
    "# gpu test on full data\n",
    "!python3 ./information_extraction/model/finetune.py  \\\n",
    "    --device gpu \\\n",
    "    --logging_steps 10 \\\n",
    "    --save_steps 100 \\\n",
    "    --eval_steps 100 \\\n",
    "    --seed 42 \\\n",
    "    --model_name_or_path uie-base  \\\n",
    "    --train_path ./information_extraction/data/final_data/training_data.txt \\\n",
    "    --dev_path ./information_extraction/data/final_data/eval_data.txt  \\\n",
    "    --max_seq_len 512  \\\n",
    "    --read_data_method chunk \\\n",
    "    --per_device_eval_batch_size 16 \\\n",
    "    --per_device_train_batch_size  16 \\\n",
    "    --multilingual True \\\n",
    "    --num_train_epochs 5 \\\n",
    "    --learning_rate 1e-5 \\\n",
    "    --label_names 'start_positions' 'end_positions' \\\n",
    "    --do_train \\\n",
    "    --do_eval \\\n",
    "    --do_export \\\n",
    "    --overwrite_output_dir \\\n",
    "    --disable_tqdm True \\\n",
    "    --metric_for_best_model eval_f1 \\\n",
    "    --load_best_model_at_end  True \\\n",
    "    --save_total_limit 1"
   ]
  }
 ],
 "metadata": {
  "kernelspec": {
   "display_name": "Python 3.8.10 ('venv_pytorch': venv)",
   "language": "python",
   "name": "python3"
  },
  "language_info": {
   "codemirror_mode": {
    "name": "ipython",
    "version": 3
   },
   "file_extension": ".py",
   "mimetype": "text/x-python",
   "name": "python",
   "nbconvert_exporter": "python",
   "pygments_lexer": "ipython3",
   "version": "3.8.10"
  },
  "orig_nbformat": 4,
  "vscode": {
   "interpreter": {
    "hash": "cf46acb013efd0588f6afec6d5cfc3a8d59196ff594941befc7df90c31a68b6c"
   }
  }
 },
 "nbformat": 4,
 "nbformat_minor": 2
}
