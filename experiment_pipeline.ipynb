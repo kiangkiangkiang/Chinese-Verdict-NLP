{
 "cells": [
  {
   "cell_type": "code",
   "execution_count": null,
   "metadata": {},
   "outputs": [],
   "source": [
    "# 可刪掉的block\n",
    "\"/Users/cfh00892302/Desktop/myWorkspace/Chinese-Verdict-NLP/dev/label_output_new/merged_data.json\""
   ]
  },
  {
   "cell_type": "markdown",
   "metadata": {},
   "source": [
    "1. 把資料合併 #暫時不用做這步驟"
   ]
  },
  {
   "cell_type": "code",
   "execution_count": 2,
   "metadata": {},
   "outputs": [
    {
     "name": "stderr",
     "output_type": "stream",
     "text": [
      "\u001b[32m[2023-05-26 14:19:18,522] [    INFO]\u001b[0m - Find the following json file: ['個理_文本分類_119.json', '商險_文本分類_25.json'].\u001b[0m\n",
      "\u001b[32m[2023-05-26 14:19:18,523] [    INFO]\u001b[0m - Merging the file 個理_文本分類_119.json...\u001b[0m\n",
      "\u001b[32m[2023-05-26 14:19:18,536] [    INFO]\u001b[0m - Length of 個理_文本分類_119.json is 119.\u001b[0m\n",
      "\u001b[32m[2023-05-26 14:19:18,538] [    INFO]\u001b[0m - Merging the file 商險_文本分類_25.json...\u001b[0m\n",
      "\u001b[32m[2023-05-26 14:19:18,543] [    INFO]\u001b[0m - Length of 商險_文本分類_25.json is 25.\u001b[0m\n",
      "\u001b[32m[2023-05-26 14:19:18,561] [    INFO]\u001b[0m - Successful merge all file (len=144) to ./dev/label_output_new/merged_data.json.\u001b[0m\n"
     ]
    }
   ],
   "source": [
    "from information_extraction.utils.base_utils import merge_json\n",
    "all_json_file_locate_folder = \"./dev/label_output_raw\"\n",
    "merged_json_output_folder = \"./dev/label_output_new\"\n",
    "merge_json(all_json_file_locate_folder, merged_json_output_folder)"
   ]
  },
  {
   "cell_type": "code",
   "execution_count": 6,
   "metadata": {},
   "outputs": [],
   "source": [
    "file_name = \"./dev/label_output_new/merged_data.json\""
   ]
  },
  {
   "cell_type": "markdown",
   "metadata": {},
   "source": [
    "2. 檢查資料正確性"
   ]
  },
  {
   "cell_type": "code",
   "execution_count": 11,
   "metadata": {},
   "outputs": [
    {
     "name": "stderr",
     "output_type": "stream",
     "text": [
      "\u001b[32m[2023-05-26 14:21:56,809] [    INFO]\u001b[0m - All data: 144. Unique data: 144. Repeat data: 0.\u001b[0m\n"
     ]
    },
    {
     "name": "stdout",
     "output_type": "stream",
     "text": [
      "OK! No repeat.\n"
     ]
    }
   ],
   "source": [
    "from information_extraction.utils.base_utils import is_repeat_content_exist\n",
    "result = is_repeat_content_exist(file_name)\n",
    "if not result['is_repeat']:\n",
    "    print(\"OK! No repeat.\")\n",
    "else:\n",
    "    print(\"Duplicate cases happened!!!\")\n",
    "    "
   ]
  },
  {
   "cell_type": "markdown",
   "metadata": {},
   "source": [
    "3. Split into train/eval/test"
   ]
  },
  {
   "cell_type": "code",
   "execution_count": null,
   "metadata": {},
   "outputs": [],
   "source": [
    "!python information_extraction/split_labelstudio.py \\\n",
    "    --labelstudio_file ./dev/label_output_new/merged_data.json \\\n",
    "    --save_dir information_extraction/first_stage_data/ \\\n",
    "    --split_ratio 0.8 0.1 0.1 "
   ]
  }
 ],
 "metadata": {
  "kernelspec": {
   "display_name": "Python 3.9.6 ('env': venv)",
   "language": "python",
   "name": "python3"
  },
  "language_info": {
   "codemirror_mode": {
    "name": "ipython",
    "version": 3
   },
   "file_extension": ".py",
   "mimetype": "text/x-python",
   "name": "python",
   "nbconvert_exporter": "python",
   "pygments_lexer": "ipython3",
   "version": "3.9.6"
  },
  "orig_nbformat": 4,
  "vscode": {
   "interpreter": {
    "hash": "5d58828fd0c5f7af717daf8982e0a9ccf3c174b5c7bbe63b6216d1f875908829"
   }
  }
 },
 "nbformat": 4,
 "nbformat_minor": 2
}
