{
 "cells": [
  {
   "cell_type": "code",
   "execution_count": null,
   "metadata": {},
   "outputs": [],
   "source": [
    "# 可刪掉的block\n",
    "\"/Users/cfh00892302/Desktop/myWorkspace/Chinese-Verdict-NLP/dev/label_output_new/merged_data.json\""
   ]
  },
  {
   "cell_type": "markdown",
   "metadata": {},
   "source": [
    "1. 把資料合併 #暫時不用做這步驟"
   ]
  },
  {
   "cell_type": "code",
   "execution_count": 2,
   "metadata": {},
   "outputs": [
    {
     "name": "stderr",
     "output_type": "stream",
     "text": [
      "\u001b[32m[2023-05-26 14:19:18,522] [    INFO]\u001b[0m - Find the following json file: ['個理_文本分類_119.json', '商險_文本分類_25.json'].\u001b[0m\n",
      "\u001b[32m[2023-05-26 14:19:18,523] [    INFO]\u001b[0m - Merging the file 個理_文本分類_119.json...\u001b[0m\n",
      "\u001b[32m[2023-05-26 14:19:18,536] [    INFO]\u001b[0m - Length of 個理_文本分類_119.json is 119.\u001b[0m\n",
      "\u001b[32m[2023-05-26 14:19:18,538] [    INFO]\u001b[0m - Merging the file 商險_文本分類_25.json...\u001b[0m\n",
      "\u001b[32m[2023-05-26 14:19:18,543] [    INFO]\u001b[0m - Length of 商險_文本分類_25.json is 25.\u001b[0m\n",
      "\u001b[32m[2023-05-26 14:19:18,561] [    INFO]\u001b[0m - Successful merge all file (len=144) to ./dev/label_output_new/merged_data.json.\u001b[0m\n"
     ]
    }
   ],
   "source": [
    "from information_extraction.utils.base_utils import merge_json\n",
    "all_json_file_locate_folder = \"./dev/label_output_raw\"\n",
    "merged_json_output_folder = \"./dev/label_output_new\"\n",
    "merge_json(all_json_file_locate_folder, merged_json_output_folder)"
   ]
  },
  {
   "cell_type": "code",
   "execution_count": 6,
   "metadata": {},
   "outputs": [],
   "source": [
    "file_name = \"./dev/label_output_new/merged_data.json\""
   ]
  },
  {
   "cell_type": "markdown",
   "metadata": {},
   "source": [
    "2. 檢查資料正確性"
   ]
  },
  {
   "cell_type": "code",
   "execution_count": 11,
   "metadata": {},
   "outputs": [
    {
     "name": "stderr",
     "output_type": "stream",
     "text": [
      "\u001b[32m[2023-05-26 14:21:56,809] [    INFO]\u001b[0m - All data: 144. Unique data: 144. Repeat data: 0.\u001b[0m\n"
     ]
    },
    {
     "name": "stdout",
     "output_type": "stream",
     "text": [
      "OK! No repeat.\n"
     ]
    }
   ],
   "source": [
    "from information_extraction.utils.base_utils import is_repeat_content_exist\n",
    "result = is_repeat_content_exist(file_name)\n",
    "if not result['is_repeat']:\n",
    "    print(\"OK! No repeat.\")\n",
    "else:\n",
    "    print(\"Duplicate cases happened!!!\")\n",
    "    "
   ]
  },
  {
   "cell_type": "markdown",
   "metadata": {},
   "source": [
    "3. 資料前處理 去特殊字元"
   ]
  },
  {
   "cell_type": "code",
   "execution_count": null,
   "metadata": {},
   "outputs": [],
   "source": [
    "from information_extraction.utils.base_utils import regularize_json_file\n",
    "regularize_json_file(json_file=\"./dev/label_output_new/merged_data.json\", output_path=\"./information_extraction/data/first_stage_data/\")"
   ]
  },
  {
   "cell_type": "markdown",
   "metadata": {},
   "source": [
    "3. Split into train/eval/test"
   ]
  },
  {
   "cell_type": "code",
   "execution_count": 10,
   "metadata": {},
   "outputs": [
    {
     "name": "stdout",
     "output_type": "stream",
     "text": [
      "/home/ubuntu/work/venv_pytorch/lib/python3.8/site-packages/_distutils_hack/__init__.py:33: UserWarning: Setuptools is replacing distutils.\n",
      "  warnings.warn(\"Setuptools is replacing distutils.\")\n",
      "\u001b[35m[2023-05-26 07:01:10,475] [   DEBUG]\u001b[0m - This dir = /home/ubuntu/work/Chinese-Verdict-NLP\u001b[0m\n",
      "\u001b[32m[2023-05-26 07:01:10,476] [    INFO]\u001b[0m - Converting regularized_data.json into information_extraction/data/first_stage_data/...\u001b[0m\n",
      "\u001b[35m[2023-05-26 07:01:10,508] [   DEBUG]\u001b[0m - in do_split, len(dataset)=290\u001b[0m\n",
      "\u001b[35m[2023-05-26 07:01:10,508] [   DEBUG]\u001b[0m - In convert_format, data len = 232\u001b[0m\n",
      "\u001b[35m[2023-05-26 07:01:10,510] [   DEBUG]\u001b[0m - In convert_format, data len = 29\u001b[0m\n",
      "\u001b[35m[2023-05-26 07:01:10,510] [   DEBUG]\u001b[0m - In convert_format, data len = 29\u001b[0m\n",
      "\u001b[35m[2023-05-26 07:01:10,510] [   DEBUG]\u001b[0m - len(training_data.txt) = 696\u001b[0m\n",
      "\u001b[35m[2023-05-26 07:01:10,596] [   DEBUG]\u001b[0m - len(eval_data.txt) = 87\u001b[0m\n",
      "\u001b[35m[2023-05-26 07:01:10,604] [   DEBUG]\u001b[0m - len(testing_data.txt) = 87\u001b[0m\n"
     ]
    }
   ],
   "source": [
    "!python ./information_extraction/utils/split_labelstudio.py \\\n",
    "    --labelstudio_file ./dev/label_output_new/regularized_data.json \\\n",
    "    --save_dir information_extraction/data/first_stage_data/ \\\n",
    "    --split_ratio 0.8 0.1 0.1 "
   ]
  }
 ],
 "metadata": {
  "kernelspec": {
   "display_name": "Python 3.9.6 ('env': venv)",
   "language": "python",
   "name": "python3"
  },
  "language_info": {
   "codemirror_mode": {
    "name": "ipython",
    "version": 3
   },
   "file_extension": ".py",
   "mimetype": "text/x-python",
   "name": "python",
   "nbconvert_exporter": "python",
   "pygments_lexer": "ipython3",
   "version": "3.9.6"
  },
  "orig_nbformat": 4,
  "vscode": {
   "interpreter": {
    "hash": "5d58828fd0c5f7af717daf8982e0a9ccf3c174b5c7bbe63b6216d1f875908829"
   }
  }
 },
 "nbformat": 4,
 "nbformat_minor": 2
}
